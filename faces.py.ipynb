{
 "cells": [
  {
   "cell_type": "code",
   "execution_count": 2,
   "metadata": {},
   "outputs": [
    {
     "ename": "AttributeError",
     "evalue": "module 'cv2.cv2' has no attribute 'face'",
     "output_type": "error",
     "traceback": [
      "\u001b[1;31m---------------------------------------------------------------------------\u001b[0m",
      "\u001b[1;31mAttributeError\u001b[0m                            Traceback (most recent call last)",
      "\u001b[1;32m<ipython-input-2-ca8e6ab6628b>\u001b[0m in \u001b[0;36m<module>\u001b[1;34m\u001b[0m\n\u001b[0;32m      6\u001b[0m \u001b[1;31m#face_cascade = cv2.CascadeClassifier(\"haarcascade_frontalface_alt.xml\")\u001b[0m\u001b[1;33m\u001b[0m\u001b[1;33m\u001b[0m\u001b[1;33m\u001b[0m\u001b[0m\n\u001b[0;32m      7\u001b[0m \u001b[1;31m#help(cv2.cv2)\u001b[0m\u001b[1;33m\u001b[0m\u001b[1;33m\u001b[0m\u001b[1;33m\u001b[0m\u001b[0m\n\u001b[1;32m----> 8\u001b[1;33m \u001b[0mrecognizer\u001b[0m \u001b[1;33m=\u001b[0m \u001b[0mcv2\u001b[0m\u001b[1;33m.\u001b[0m\u001b[0mface\u001b[0m\u001b[1;33m.\u001b[0m\u001b[0mLBPHFaceRecognizer_create\u001b[0m\u001b[1;33m(\u001b[0m\u001b[1;33m)\u001b[0m\u001b[1;33m\u001b[0m\u001b[1;33m\u001b[0m\u001b[0m\n\u001b[0m\u001b[0;32m      9\u001b[0m \u001b[0mrecognizer\u001b[0m\u001b[1;33m.\u001b[0m\u001b[0mread\u001b[0m\u001b[1;33m(\u001b[0m\u001b[1;34m\"trainer.yml\"\u001b[0m\u001b[1;33m)\u001b[0m\u001b[1;33m\u001b[0m\u001b[1;33m\u001b[0m\u001b[0m\n\u001b[0;32m     10\u001b[0m \u001b[1;33m\u001b[0m\u001b[0m\n",
      "\u001b[1;31mAttributeError\u001b[0m: module 'cv2.cv2' has no attribute 'face'"
     ]
    }
   ],
   "source": [
    "import numpy as np\n",
    "import cv2\n",
    "\n",
    "from PIL import Image\n",
    "\n",
    "#face_cascade = cv2.CascadeClassifier(\"haarcascade_frontalface_alt.xml\")\n",
    "#help(cv2.cv2)\n",
    "recognizer = cv2.face.LBPHFaceRecognizer_create()\n",
    "recognizer.read(\"trainer.yml\")\n",
    "\n",
    "cap = cv2.VideoCapture(0)\n",
    "\n",
    "while True:\n",
    "    #capture frame by frame\n",
    "    ret,frame = cap.read()\n",
    "    gray = cv2.cvtColor(frame, cv2.COLOR_BGR2GRAY)\n",
    "    faces = face_cascade.detectMultiScale(gray,1.5,5)\n",
    "    for (x,y,w,h) in faces:\n",
    "        print(x,y,w,h)\n",
    "        region_of_interest_gray = gray[y:y+h, x:x+w]\n",
    "        region_of_interest_color = frame[y:y+h, x:x+w]\n",
    "        \n",
    "        id_,confidence = recognizer.predict(region_of_interest_gray)\n",
    "        if confidence>=45 and confidence<=85:\n",
    "            print(id_)\n",
    "        \n",
    "        img_item = \"my-image.png\"\n",
    "        cv2.imwrite(img_item,region_of_interest_gray)\n",
    "        \n",
    "        # Drawing rectangle around faces\n",
    "        cv2.rectangle(frame,(x,y),(x+w,y+h),(255,0,0),4)\n",
    "    #display the resulting frame\n",
    "    cv2.imshow(\"Frame\",frame)\n",
    "    if cv2.waitKey(20) & 0xFF == ord('q'):\n",
    "        break\n",
    "        \n",
    "#when everything is done release the capture\n",
    "cap.release()\n",
    "cv2.destroyAllWindows()"
   ]
  },
  {
   "cell_type": "code",
   "execution_count": 4,
   "metadata": {},
   "outputs": [
    {
     "name": "stdout",
     "output_type": "stream",
     "text": [
      "Collecting opencv-contrib-python==3.4.2.16\n",
      "  Downloading https://files.pythonhosted.org/packages/e1/97/e05a3f33d767b3ef437c0b5d301d2268a6bb1dc60a256654011e4a06d291/opencv_contrib_python-3.4.2.16-cp37-cp37m-win32.whl (28.0MB)\n",
      "Requirement already satisfied: numpy>=1.14.5 in c:\\users\\hp\\appdata\\roaming\\python\\python37\\site-packages (from opencv-contrib-python==3.4.2.16) (1.17.1)\n",
      "Installing collected packages: opencv-contrib-python\n",
      "  Found existing installation: opencv-contrib-python 4.1.2.30\n",
      "    Uninstalling opencv-contrib-python-4.1.2.30:\n",
      "      Successfully uninstalled opencv-contrib-python-4.1.2.30\n",
      "Successfully installed opencv-contrib-python-3.4.2.16\n",
      "Note: you may need to restart the kernel to use updated packages.\n"
     ]
    }
   ],
   "source": [
    "pip install opencv-contrib-python==3.4.2.16"
   ]
  },
  {
   "cell_type": "code",
   "execution_count": null,
   "metadata": {},
   "outputs": [],
   "source": []
  }
 ],
 "metadata": {
  "kernelspec": {
   "display_name": "Python 3",
   "language": "python",
   "name": "python3"
  },
  "language_info": {
   "codemirror_mode": {
    "name": "ipython",
    "version": 3
   },
   "file_extension": ".py",
   "mimetype": "text/x-python",
   "name": "python",
   "nbconvert_exporter": "python",
   "pygments_lexer": "ipython3",
   "version": "3.7.3"
  }
 },
 "nbformat": 4,
 "nbformat_minor": 2
}
